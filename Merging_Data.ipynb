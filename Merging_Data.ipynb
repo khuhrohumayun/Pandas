{
 "cells": [
  {
   "cell_type": "markdown",
   "id": "9143f7c4-cb07-43ff-96f9-ef212fa99007",
   "metadata": {},
   "source": [
    "### Merging & Concatenating Data"
   ]
  },
  {
   "cell_type": "code",
   "execution_count": 1,
   "id": "07293be0-f6b0-46b8-9e91-db1593f08d86",
   "metadata": {},
   "outputs": [],
   "source": [
    "import pandas as pd"
   ]
  },
  {
   "cell_type": "code",
   "execution_count": 49,
   "id": "fdf70bc7-7f2b-4303-bea6-5ae201b570d5",
   "metadata": {},
   "outputs": [],
   "source": [
    "bios = pd.read_csv('./Data/bios.csv')"
   ]
  },
  {
   "cell_type": "code",
   "execution_count": 51,
   "id": "11580b26-e60b-4a7f-a7f5-54d1fa7c57da",
   "metadata": {},
   "outputs": [],
   "source": [
    "nocs = pd.read_csv('./Data/noc_regions.csv')"
   ]
  },
  {
   "cell_type": "code",
   "execution_count": 25,
   "id": "44795625-f47a-4290-a8dd-04a079558147",
   "metadata": {},
   "outputs": [],
   "source": [
    "bios_new = pd.merge(bios, nocs, left_on='born_country', right_on='NOC', how='left')   # add new column of full name of region using dataset of noc_regions"
   ]
  },
  {
   "cell_type": "code",
   "execution_count": 45,
   "id": "e1002f97-d2ca-4b50-aea8-486a13e48ed9",
   "metadata": {},
   "outputs": [],
   "source": [
    "bios_new.rename(columns={'region': 'born_country_full'}, inplace=True) # rename region to born_country_full"
   ]
  },
  {
   "cell_type": "code",
   "execution_count": 82,
   "id": "79af7c85-35d6-4a8b-91c9-b2a29beba38a",
   "metadata": {},
   "outputs": [],
   "source": [
    "results = pd.read_csv('./Data/results.csv')"
   ]
  },
  {
   "cell_type": "code",
   "execution_count": 55,
   "id": "8769a1cc-94a1-4a22-89ec-2dd22623b7b3",
   "metadata": {},
   "outputs": [],
   "source": [
    "usa = bios[bios['born_country']=='USA'].copy()  # copy of born_country which have only include one country you set in.\n",
    "gbr = bios[bios['born_country']=='GBR'].copy()"
   ]
  },
  {
   "cell_type": "code",
   "execution_count": 70,
   "id": "39277bef-e718-4046-8530-2ae0103b27c2",
   "metadata": {},
   "outputs": [],
   "source": [
    "new_df = pd.concat([usa,gbr]) # both in one "
   ]
  },
  {
   "cell_type": "code",
   "execution_count": 80,
   "id": "86975f4e-5e1e-40fb-9421-8d9f4339b00e",
   "metadata": {},
   "outputs": [
    {
     "data": {
      "text/html": [
       "<div>\n",
       "<style scoped>\n",
       "    .dataframe tbody tr th:only-of-type {\n",
       "        vertical-align: middle;\n",
       "    }\n",
       "\n",
       "    .dataframe tbody tr th {\n",
       "        vertical-align: top;\n",
       "    }\n",
       "\n",
       "    .dataframe thead th {\n",
       "        text-align: right;\n",
       "    }\n",
       "</style>\n",
       "<table border=\"1\" class=\"dataframe\">\n",
       "  <thead>\n",
       "    <tr style=\"text-align: right;\">\n",
       "      <th></th>\n",
       "      <th>athlete_id</th>\n",
       "      <th>name</th>\n",
       "      <th>born_date</th>\n",
       "      <th>born_city</th>\n",
       "      <th>born_region</th>\n",
       "      <th>born_country</th>\n",
       "      <th>NOC</th>\n",
       "      <th>height_cm</th>\n",
       "      <th>weight_kg</th>\n",
       "      <th>died_date</th>\n",
       "    </tr>\n",
       "  </thead>\n",
       "  <tbody>\n",
       "    <tr>\n",
       "      <th>54</th>\n",
       "      <td>55</td>\n",
       "      <td>Monique Javer</td>\n",
       "      <td>1967-07-22</td>\n",
       "      <td>Burlingame</td>\n",
       "      <td>California</td>\n",
       "      <td>USA</td>\n",
       "      <td>Great Britain</td>\n",
       "      <td>177.0</td>\n",
       "      <td>64.0</td>\n",
       "      <td>NaN</td>\n",
       "    </tr>\n",
       "    <tr>\n",
       "      <th>960</th>\n",
       "      <td>964</td>\n",
       "      <td>Xóchitl Escobedo</td>\n",
       "      <td>1968-09-17</td>\n",
       "      <td>West Covina</td>\n",
       "      <td>California</td>\n",
       "      <td>USA</td>\n",
       "      <td>Mexico</td>\n",
       "      <td>170.0</td>\n",
       "      <td>60.0</td>\n",
       "      <td>NaN</td>\n",
       "    </tr>\n",
       "    <tr>\n",
       "      <th>961</th>\n",
       "      <td>965</td>\n",
       "      <td>Angélica Gavaldón</td>\n",
       "      <td>1973-10-03</td>\n",
       "      <td>El Centro</td>\n",
       "      <td>California</td>\n",
       "      <td>USA</td>\n",
       "      <td>Mexico</td>\n",
       "      <td>160.0</td>\n",
       "      <td>54.0</td>\n",
       "      <td>NaN</td>\n",
       "    </tr>\n",
       "    <tr>\n",
       "      <th>1231</th>\n",
       "      <td>1238</td>\n",
       "      <td>Bert Schneider</td>\n",
       "      <td>1897-07-01</td>\n",
       "      <td>Cleveland</td>\n",
       "      <td>Ohio</td>\n",
       "      <td>USA</td>\n",
       "      <td>Canada</td>\n",
       "      <td>NaN</td>\n",
       "      <td>NaN</td>\n",
       "      <td>1986-02-20</td>\n",
       "    </tr>\n",
       "    <tr>\n",
       "      <th>1345</th>\n",
       "      <td>1352</td>\n",
       "      <td>Laura Berg</td>\n",
       "      <td>1975-01-06</td>\n",
       "      <td>Santa Fe Springs</td>\n",
       "      <td>California</td>\n",
       "      <td>USA</td>\n",
       "      <td>United States</td>\n",
       "      <td>168.0</td>\n",
       "      <td>61.0</td>\n",
       "      <td>NaN</td>\n",
       "    </tr>\n",
       "  </tbody>\n",
       "</table>\n",
       "</div>"
      ],
      "text/plain": [
       "      athlete_id               name   born_date         born_city born_region  \\\n",
       "54            55      Monique Javer  1967-07-22        Burlingame  California   \n",
       "960          964   Xóchitl Escobedo  1968-09-17       West Covina  California   \n",
       "961          965  Angélica Gavaldón  1973-10-03         El Centro  California   \n",
       "1231        1238     Bert Schneider  1897-07-01         Cleveland        Ohio   \n",
       "1345        1352         Laura Berg  1975-01-06  Santa Fe Springs  California   \n",
       "\n",
       "     born_country            NOC  height_cm  weight_kg   died_date  \n",
       "54            USA  Great Britain      177.0       64.0         NaN  \n",
       "960           USA         Mexico      170.0       60.0         NaN  \n",
       "961           USA         Mexico      160.0       54.0         NaN  \n",
       "1231          USA         Canada        NaN        NaN  1986-02-20  \n",
       "1345          USA  United States      168.0       61.0         NaN  "
      ]
     },
     "execution_count": 80,
     "metadata": {},
     "output_type": "execute_result"
    }
   ],
   "source": [
    "usa.head()"
   ]
  },
  {
   "cell_type": "code",
   "execution_count": 96,
   "id": "54b1a28e-850e-4ab7-8d5b-2e611fde015e",
   "metadata": {},
   "outputs": [],
   "source": [
    "results = pd.read_csv('./Data/results.csv')"
   ]
  },
  {
   "cell_type": "code",
   "execution_count": 98,
   "id": "3c14a633-0bac-4878-8443-66d8bd192ce1",
   "metadata": {},
   "outputs": [],
   "source": [
    "combined_df = pd.merge(results, bios, on='athlete_id', how='left')"
   ]
  },
  {
   "cell_type": "code",
   "execution_count": null,
   "id": "194c8278-2f55-4a06-ada8-9560d992f4dc",
   "metadata": {},
   "outputs": [],
   "source": [
    "combined_dt"
   ]
  }
 ],
 "metadata": {
  "kernelspec": {
   "display_name": "Python [conda env:base] *",
   "language": "python",
   "name": "conda-base-py"
  },
  "language_info": {
   "codemirror_mode": {
    "name": "ipython",
    "version": 3
   },
   "file_extension": ".py",
   "mimetype": "text/x-python",
   "name": "python",
   "nbconvert_exporter": "python",
   "pygments_lexer": "ipython3",
   "version": "3.12.7"
  }
 },
 "nbformat": 4,
 "nbformat_minor": 5
}
