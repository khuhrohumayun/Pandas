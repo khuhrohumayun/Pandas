{
 "cells": [
  {
   "cell_type": "markdown",
   "id": "9ebcbf34-6702-455d-8ec6-8919c26a601a",
   "metadata": {},
   "source": [
    "### Intro to Dataframes"
   ]
  },
  {
   "cell_type": "code",
   "execution_count": 2,
   "id": "f1e27c55-e822-413e-b401-134e8f176fae",
   "metadata": {},
   "outputs": [],
   "source": [
    "import pandas as pd"
   ]
  },
  {
   "cell_type": "code",
   "execution_count": 26,
   "id": "109779f7-3e08-4f37-b734-2c75ab6ada33",
   "metadata": {},
   "outputs": [],
   "source": [
    "df = pd.DataFrame([[1,2,3], [4,5,6], [7,8,9], [10,11,12]], columns=[\"A\", \"B\", \"C\"], index=['x','y','z','zz'])"
   ]
  },
  {
   "cell_type": "code",
   "execution_count": 36,
   "id": "240e2e46-a707-4480-a220-51dd11a018c7",
   "metadata": {},
   "outputs": [
    {
     "data": {
      "text/plain": [
       "12"
      ]
     },
     "execution_count": 36,
     "metadata": {},
     "output_type": "execute_result"
    }
   ],
   "source": [
    "df.size"
   ]
  },
  {
   "cell_type": "code",
   "execution_count": 34,
   "id": "8c21b999-ed93-44c9-b8c0-7323833e854a",
   "metadata": {},
   "outputs": [
    {
     "data": {
      "text/plain": [
       "(4, 3)"
      ]
     },
     "execution_count": 34,
     "metadata": {},
     "output_type": "execute_result"
    }
   ],
   "source": [
    "df.shape"
   ]
  },
  {
   "cell_type": "code",
   "execution_count": null,
   "id": "d74a7db1-c92c-484b-99dd-58d92fafbb0c",
   "metadata": {},
   "outputs": [],
   "source": []
  }
 ],
 "metadata": {
  "kernelspec": {
   "display_name": "Python [conda env:base] *",
   "language": "python",
   "name": "conda-base-py"
  },
  "language_info": {
   "codemirror_mode": {
    "name": "ipython",
    "version": 3
   },
   "file_extension": ".py",
   "mimetype": "text/x-python",
   "name": "python",
   "nbconvert_exporter": "python",
   "pygments_lexer": "ipython3",
   "version": "3.12.7"
  }
 },
 "nbformat": 4,
 "nbformat_minor": 5
}
